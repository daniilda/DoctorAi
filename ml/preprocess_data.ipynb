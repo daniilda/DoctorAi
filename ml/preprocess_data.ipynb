{
 "cells": [
  {
   "cell_type": "code",
   "execution_count": 19,
   "id": "22cbc3b2",
   "metadata": {},
   "outputs": [],
   "source": [
    "import pandas as pd\n",
    "import math\n",
    "from random import randint, seed\n",
    "\n",
    "import warnings\n",
    "warnings.filterwarnings(\"ignore\")"
   ]
  },
  {
   "cell_type": "code",
   "execution_count": 20,
   "id": "0017663d",
   "metadata": {},
   "outputs": [],
   "source": [
    "DATA = 'data'\n",
    "seed(42)"
   ]
  },
  {
   "cell_type": "markdown",
   "id": "c99bff84",
   "metadata": {},
   "source": [
    "# New sintetic data"
   ]
  },
  {
   "cell_type": "code",
   "execution_count": 139,
   "id": "ef0deb04",
   "metadata": {},
   "outputs": [],
   "source": [
    "#desease = pd.read_csv(f'{DATA}/sintetic_deseases.csv', delimiter=';') sasha directory\n",
    "desease = pd.read_csv('new_data.csv', delimiter=';')\n",
    "desease = desease[desease['Column1']!='Болезнь']\n",
    "desease = desease.rename(columns={\n",
    "    'Column1': 'Диагноз',\n",
    "    'Column2': 'Направление',\n",
    "    'Column3': 'Обязательность',\n",
    "    'Column4': 'Врач'\n",
    "})\n",
    "desease = desease[desease['Обязательность'].isin(('Обязательно', 'По показанию'))]"
   ]
  },
  {
   "cell_type": "code",
   "execution_count": 140,
   "id": "a4f74ec4",
   "metadata": {},
   "outputs": [],
   "source": [
    "def format_doctor_name(doctor_name):\n",
    "    if 'Врач-' in doctor_name:\n",
    "        subsample = doctor_name.split('-')[1]\n",
    "        subsample = subsample[0].upper() + subsample[1:]\n",
    "        return subsample\n",
    "    elif doctor_name == 'ЛОР-врач':\n",
    "        return 'Отоларинголог'\n",
    "    else: \n",
    "        return doctor_name"
   ]
  },
  {
   "cell_type": "code",
   "execution_count": 141,
   "id": "e8cfd6a2",
   "metadata": {},
   "outputs": [],
   "source": [
    "desease['Врач'] = desease['Врач'].map(format_doctor_name)"
   ]
  },
  {
   "cell_type": "code",
   "execution_count": 142,
   "id": "b606ac72",
   "metadata": {},
   "outputs": [
    {
     "data": {
      "text/html": [
       "<div>\n",
       "<style scoped>\n",
       "    .dataframe tbody tr th:only-of-type {\n",
       "        vertical-align: middle;\n",
       "    }\n",
       "\n",
       "    .dataframe tbody tr th {\n",
       "        vertical-align: top;\n",
       "    }\n",
       "\n",
       "    .dataframe thead th {\n",
       "        text-align: right;\n",
       "    }\n",
       "</style>\n",
       "<table border=\"1\" class=\"dataframe\">\n",
       "  <thead>\n",
       "    <tr style=\"text-align: right;\">\n",
       "      <th></th>\n",
       "      <th>Диагноз</th>\n",
       "      <th>Направление</th>\n",
       "      <th>Обязательность</th>\n",
       "      <th>Врач</th>\n",
       "    </tr>\n",
       "  </thead>\n",
       "  <tbody>\n",
       "    <tr>\n",
       "      <th>1</th>\n",
       "      <td>Астма</td>\n",
       "      <td>Спирометрия</td>\n",
       "      <td>Обязательно</td>\n",
       "      <td>Пульмонолог</td>\n",
       "    </tr>\n",
       "    <tr>\n",
       "      <th>2</th>\n",
       "      <td>Астма</td>\n",
       "      <td>Пикфлоуметрия</td>\n",
       "      <td>По показанию</td>\n",
       "      <td>Пульмонолог</td>\n",
       "    </tr>\n",
       "    <tr>\n",
       "      <th>3</th>\n",
       "      <td>Астма</td>\n",
       "      <td>Аллергические анализы</td>\n",
       "      <td>По показанию</td>\n",
       "      <td>Аллерголог</td>\n",
       "    </tr>\n",
       "    <tr>\n",
       "      <th>4</th>\n",
       "      <td>Астма</td>\n",
       "      <td>Мониторинг показателей физической активности</td>\n",
       "      <td>По показанию</td>\n",
       "      <td>Пульмонолог</td>\n",
       "    </tr>\n",
       "    <tr>\n",
       "      <th>5</th>\n",
       "      <td>Астма</td>\n",
       "      <td>Консультация пульмонолога</td>\n",
       "      <td>Обязательно</td>\n",
       "      <td>Пульмонолог</td>\n",
       "    </tr>\n",
       "    <tr>\n",
       "      <th>...</th>\n",
       "      <td>...</td>\n",
       "      <td>...</td>\n",
       "      <td>...</td>\n",
       "      <td>...</td>\n",
       "    </tr>\n",
       "    <tr>\n",
       "      <th>782</th>\n",
       "      <td>Сахарный диабет</td>\n",
       "      <td>Консультация эндокринолога</td>\n",
       "      <td>Обязательно</td>\n",
       "      <td>Эндокринолог</td>\n",
       "    </tr>\n",
       "    <tr>\n",
       "      <th>783</th>\n",
       "      <td>Артериальная гипертензия</td>\n",
       "      <td>Клинический осмотр</td>\n",
       "      <td>Обязательно</td>\n",
       "      <td>Врач общей практики</td>\n",
       "    </tr>\n",
       "    <tr>\n",
       "      <th>784</th>\n",
       "      <td>Артериальная гипертензия</td>\n",
       "      <td>Измерение артериального давления</td>\n",
       "      <td>Обязательно</td>\n",
       "      <td>Медсестра</td>\n",
       "    </tr>\n",
       "    <tr>\n",
       "      <th>785</th>\n",
       "      <td>Артериальная гипертензия</td>\n",
       "      <td>Общий анализ крови</td>\n",
       "      <td>Обязательно</td>\n",
       "      <td>Лаборант</td>\n",
       "    </tr>\n",
       "    <tr>\n",
       "      <th>786</th>\n",
       "      <td>Артериальная гипертензия</td>\n",
       "      <td>Консультация кардиолога</td>\n",
       "      <td>Обязательно</td>\n",
       "      <td>Кардиолог</td>\n",
       "    </tr>\n",
       "  </tbody>\n",
       "</table>\n",
       "<p>786 rows × 4 columns</p>\n",
       "</div>"
      ],
      "text/plain": [
       "                      Диагноз                                   Направление   \n",
       "1                       Астма                                   Спирометрия  \\\n",
       "2                       Астма                                 Пикфлоуметрия   \n",
       "3                       Астма                         Аллергические анализы   \n",
       "4                       Астма  Мониторинг показателей физической активности   \n",
       "5                       Астма                     Консультация пульмонолога   \n",
       "..                        ...                                           ...   \n",
       "782           Сахарный диабет                    Консультация эндокринолога   \n",
       "783  Артериальная гипертензия                            Клинический осмотр   \n",
       "784  Артериальная гипертензия              Измерение артериального давления   \n",
       "785  Артериальная гипертензия                            Общий анализ крови   \n",
       "786  Артериальная гипертензия                       Консультация кардиолога   \n",
       "\n",
       "    Обязательность                 Врач  \n",
       "1      Обязательно          Пульмонолог  \n",
       "2     По показанию          Пульмонолог  \n",
       "3     По показанию           Аллерголог  \n",
       "4     По показанию          Пульмонолог  \n",
       "5      Обязательно          Пульмонолог  \n",
       "..             ...                  ...  \n",
       "782    Обязательно         Эндокринолог  \n",
       "783    Обязательно  Врач общей практики  \n",
       "784    Обязательно            Медсестра  \n",
       "785    Обязательно             Лаборант  \n",
       "786    Обязательно            Кардиолог  \n",
       "\n",
       "[786 rows x 4 columns]"
      ]
     },
     "execution_count": 142,
     "metadata": {},
     "output_type": "execute_result"
    }
   ],
   "source": [
    "desease"
   ]
  },
  {
   "cell_type": "code",
   "execution_count": 143,
   "id": "16ee633f",
   "metadata": {},
   "outputs": [
    {
     "data": {
      "text/plain": [
       "array(['Пульмонолог', 'Аллерголог', 'Ортопед', 'Ревматолог',\n",
       "       'Эндокринолог', 'Психиатр', 'Психолог', 'Терапевт',\n",
       "       'УЗИ-специалист', 'Гематолог', 'Инфекционист', 'Отоларинголог',\n",
       "       'Гастроэнтеролог', 'Невролог', 'Онколог', 'Иммунолог', 'Проктолог',\n",
       "       'Дерматолог', 'Офтальмолог', 'Кардиолог', 'Педиатр', 'Гинеколог',\n",
       "       'Генетик', 'Нефролог', 'Клинический лаборант',\n",
       "       'Травматолог-ортопед', 'Логопед', 'Уролог', 'Врач общей практики',\n",
       "       'Хирург', 'Нейрохирург', 'Миколог', 'Радиолог', 'Лаборант',\n",
       "       'Инфекционист ', 'Специалист по электрофизиологии', 'Реабилитолог',\n",
       "       'Врач реабилитолог', 'Рентгенолог', 'Ветеринар', 'Микробиолог',\n",
       "       'Неврохирург', 'Патологоанатом', 'Оториноларинголог',\n",
       "       'Физкультурник', 'Физиолог', 'Маммолог', 'Фтизиатр',\n",
       "       'Колопроктолог', 'Психотерапевт', 'Вирусолог', 'Бактериолог',\n",
       "       'Медсестра'], dtype=object)"
      ]
     },
     "execution_count": 143,
     "metadata": {},
     "output_type": "execute_result"
    }
   ],
   "source": [
    "desease['Врач'].unique()"
   ]
  },
  {
   "cell_type": "code",
   "execution_count": 144,
   "id": "3859e8a4",
   "metadata": {},
   "outputs": [
    {
     "data": {
      "text/plain": [
       "{'Пульмонолог': {'n': 32, 'ids': []},\n",
       " 'Аллерголог': {'n': 12, 'ids': []},\n",
       " 'Ортопед': {'n': 18, 'ids': []},\n",
       " 'Ревматолог': {'n': 18, 'ids': []},\n",
       " 'Эндокринолог': {'n': 40, 'ids': []},\n",
       " 'Психиатр': {'n': 30, 'ids': []},\n",
       " 'Психолог': {'n': 12, 'ids': []},\n",
       " 'Терапевт': {'n': 10, 'ids': []},\n",
       " 'УЗИ-специалист': {'n': 10, 'ids': []},\n",
       " 'Гематолог': {'n': 12, 'ids': []},\n",
       " 'Инфекционист': {'n': 47, 'ids': []},\n",
       " 'Отоларинголог': {'n': 9, 'ids': []},\n",
       " 'Гастроэнтеролог': {'n': 80, 'ids': []},\n",
       " 'Невролог': {'n': 99, 'ids': []},\n",
       " 'Онколог': {'n': 31, 'ids': []},\n",
       " 'Иммунолог': {'n': 5, 'ids': []},\n",
       " 'Проктолог': {'n': 1, 'ids': []},\n",
       " 'Дерматолог': {'n': 71, 'ids': []},\n",
       " 'Офтальмолог': {'n': 9, 'ids': []},\n",
       " 'Кардиолог': {'n': 29, 'ids': []},\n",
       " 'Педиатр': {'n': 14, 'ids': []},\n",
       " 'Гинеколог': {'n': 14, 'ids': []},\n",
       " 'Генетик': {'n': 25, 'ids': []},\n",
       " 'Нефролог': {'n': 2, 'ids': []},\n",
       " 'Клинический лаборант': {'n': 1, 'ids': []},\n",
       " 'Травматолог-ортопед': {'n': 4, 'ids': []},\n",
       " 'Логопед': {'n': 1, 'ids': []},\n",
       " 'Уролог': {'n': 15, 'ids': []},\n",
       " 'Врач общей практики': {'n': 37, 'ids': []},\n",
       " 'Хирург': {'n': 12, 'ids': []},\n",
       " 'Нейрохирург': {'n': 1, 'ids': []},\n",
       " 'Миколог': {'n': 3, 'ids': []},\n",
       " 'Радиолог': {'n': 11, 'ids': []},\n",
       " 'Лаборант': {'n': 30, 'ids': []},\n",
       " 'Инфекционист ': {'n': 1, 'ids': []},\n",
       " 'Специалист по электрофизиологии': {'n': 1, 'ids': []},\n",
       " 'Реабилитолог': {'n': 1, 'ids': []},\n",
       " 'Врач реабилитолог': {'n': 1, 'ids': []},\n",
       " 'Рентгенолог': {'n': 12, 'ids': []},\n",
       " 'Ветеринар': {'n': 4, 'ids': []},\n",
       " 'Микробиолог': {'n': 1, 'ids': []},\n",
       " 'Неврохирург': {'n': 3, 'ids': []},\n",
       " 'Патологоанатом': {'n': 5, 'ids': []},\n",
       " 'Оториноларинголог': {'n': 1, 'ids': []},\n",
       " 'Физкультурник': {'n': 1, 'ids': []},\n",
       " 'Физиолог': {'n': 1, 'ids': []},\n",
       " 'Маммолог': {'n': 1, 'ids': []},\n",
       " 'Фтизиатр': {'n': 2, 'ids': []},\n",
       " 'Колопроктолог': {'n': 1, 'ids': []},\n",
       " 'Психотерапевт': {'n': 1, 'ids': []},\n",
       " 'Вирусолог': {'n': 2, 'ids': []},\n",
       " 'Бактериолог': {'n': 1, 'ids': []},\n",
       " 'Медсестра': {'n': 1, 'ids': []}}"
      ]
     },
     "execution_count": 144,
     "metadata": {},
     "output_type": "execute_result"
    }
   ],
   "source": [
    "doctors_freq = {}\n",
    "for i in desease['Врач'].unique():\n",
    "    doctors_freq[i] = {'n' : desease[desease['Врач']==i].shape[0],\n",
    "                       'ids' : []\n",
    "                      }\n",
    "doctors_freq"
   ]
  },
  {
   "cell_type": "markdown",
   "id": "5a6c00e0",
   "metadata": {},
   "source": [
    "# Generate visits DataFrame"
   ]
  },
  {
   "cell_type": "code",
   "execution_count": 175,
   "id": "33be0069",
   "metadata": {},
   "outputs": [],
   "source": [
    "visits = pd.DataFrame(columns=desease.columns)"
   ]
  },
  {
   "cell_type": "code",
   "execution_count": 176,
   "id": "e6b87efc",
   "metadata": {},
   "outputs": [],
   "source": [
    "all_referrals = desease['Направление'].unique()\n",
    "all_mandory = ['Обязательно', 'По показанию']"
   ]
  },
  {
   "cell_type": "code",
   "execution_count": 177,
   "id": "d11c70e4",
   "metadata": {},
   "outputs": [
    {
     "name": "stdout",
     "output_type": "stream",
     "text": [
      "(979, 5)\n"
     ]
    },
    {
     "data": {
      "text/html": [
       "<div>\n",
       "<style scoped>\n",
       "    .dataframe tbody tr th:only-of-type {\n",
       "        vertical-align: middle;\n",
       "    }\n",
       "\n",
       "    .dataframe tbody tr th {\n",
       "        vertical-align: top;\n",
       "    }\n",
       "\n",
       "    .dataframe thead th {\n",
       "        text-align: right;\n",
       "    }\n",
       "</style>\n",
       "<table border=\"1\" class=\"dataframe\">\n",
       "  <thead>\n",
       "    <tr style=\"text-align: right;\">\n",
       "      <th></th>\n",
       "      <th>Диагноз</th>\n",
       "      <th>Направление</th>\n",
       "      <th>Обязательность</th>\n",
       "      <th>Врач</th>\n",
       "      <th>Диагноз и Направление</th>\n",
       "    </tr>\n",
       "  </thead>\n",
       "  <tbody>\n",
       "    <tr>\n",
       "      <th>0</th>\n",
       "      <td>Астма</td>\n",
       "      <td>Мониторинг показателей физической активности</td>\n",
       "      <td>По показанию</td>\n",
       "      <td>Пульмонолог</td>\n",
       "      <td>(Астма, Мониторинг показателей физической акти...</td>\n",
       "    </tr>\n",
       "    <tr>\n",
       "      <th>1</th>\n",
       "      <td>Астма</td>\n",
       "      <td>Пикфлоуметрия</td>\n",
       "      <td>По показанию</td>\n",
       "      <td>Пульмонолог</td>\n",
       "      <td>(Астма, Пикфлоуметрия)</td>\n",
       "    </tr>\n",
       "    <tr>\n",
       "      <th>2</th>\n",
       "      <td>Астма</td>\n",
       "      <td>Спирометрия</td>\n",
       "      <td>Обязательно</td>\n",
       "      <td>Пульмонолог</td>\n",
       "      <td>(Астма, Спирометрия)</td>\n",
       "    </tr>\n",
       "    <tr>\n",
       "      <th>3</th>\n",
       "      <td>Астма</td>\n",
       "      <td>Функциональная эзофагогастродуоденоскопия (ФЭГДС)</td>\n",
       "      <td>По показанию</td>\n",
       "      <td>Пульмонолог</td>\n",
       "      <td>NaN</td>\n",
       "    </tr>\n",
       "    <tr>\n",
       "      <th>4</th>\n",
       "      <td>Астма</td>\n",
       "      <td>Нейрологическое обследование</td>\n",
       "      <td>По показанию</td>\n",
       "      <td>Пульмонолог</td>\n",
       "      <td>NaN</td>\n",
       "    </tr>\n",
       "  </tbody>\n",
       "</table>\n",
       "</div>"
      ],
      "text/plain": [
       "  Диагноз                                        Направление Обязательность   \n",
       "0   Астма       Мониторинг показателей физической активности   По показанию  \\\n",
       "1   Астма                                      Пикфлоуметрия   По показанию   \n",
       "2   Астма                                        Спирометрия    Обязательно   \n",
       "3   Астма  Функциональная эзофагогастродуоденоскопия (ФЭГДС)   По показанию   \n",
       "4   Астма                       Нейрологическое обследование   По показанию   \n",
       "\n",
       "          Врач                              Диагноз и Направление  \n",
       "0  Пульмонолог  (Астма, Мониторинг показателей физической акти...  \n",
       "1  Пульмонолог                             (Астма, Пикфлоуметрия)  \n",
       "2  Пульмонолог                               (Астма, Спирометрия)  \n",
       "3  Пульмонолог                                                NaN  \n",
       "4  Пульмонолог                                                NaN  "
      ]
     },
     "execution_count": 177,
     "metadata": {},
     "output_type": "execute_result"
    }
   ],
   "source": [
    "for doctor_i in list(desease['Врач'].unique()):\n",
    "    doctor_info = desease[desease['Врач']==doctor_i]\n",
    "    for desease_i in doctor_info['Диагноз'].unique():\n",
    "        desease_info = doctor_info[doctor_info['Диагноз']==desease_i]\n",
    "        true_referrals = desease_info.sample(desease_info.shape[0]-1)\n",
    "        false_referrals = pd.DataFrame(columns=desease.columns)\n",
    "        for referral_i in range(randint(0, 3)): # генерация неправильных направлеий\n",
    "            new_referral = {\n",
    "            'Диагноз': desease_i,\n",
    "            'Направление': all_referrals[randint(1, len(all_referrals)-1)],\n",
    "            'Обязательность': all_mandory[randint(0, 1)],\n",
    "            'Врач': doctor_i,\n",
    "            }\n",
    "            false_referrals = pd.concat([false_referrals, pd.DataFrame(data=new_referral, index=[0], columns=desease.columns)])\n",
    "        new_samples = pd.concat([true_referrals, false_referrals]).reset_index()\n",
    "        new_samples = new_samples.drop(columns=['index'])\n",
    "        visits = pd.concat([visits, new_samples])\n",
    "visits = visits.reset_index().drop(columns=['index'])\n",
    "print(visits.shape)\n",
    "visits.head()"
   ]
  },
  {
   "cell_type": "code",
   "execution_count": 178,
   "id": "7d096937-86e4-4431-afa4-5b26328bc0ed",
   "metadata": {},
   "outputs": [],
   "source": [
    "desease['Диагноз и Направление'] = desease[['Диагноз', 'Направление']].apply(tuple, axis=1)"
   ]
  },
  {
   "cell_type": "markdown",
   "id": "49a95929",
   "metadata": {},
   "source": [
    "## Some tests to check generation "
   ]
  },
  {
   "cell_type": "code",
   "execution_count": 179,
   "id": "471369e0",
   "metadata": {},
   "outputs": [
    {
     "name": "stdout",
     "output_type": "stream",
     "text": [
      "всего правильных пар болезней и направлений 786\n",
      "в нашем датасете таких пар встречается 381\n"
     ]
    }
   ],
   "source": [
    "true_pairs = list(zip(list(desease['Диагноз']), list(desease['Направление'])))\n",
    "true_and_false_pairs = list(zip(list(visits['Диагноз']), list(visits['Направление'])))\n",
    "the_same = len(list(set(true_pairs) & set(true_and_false_pairs)))\n",
    "\n",
    "print(f'всего правильных пар болезней и направлений {desease.shape[0]}')\n",
    "print(f'в нашем датасете таких пар встречается {the_same}')"
   ]
  },
  {
   "cell_type": "code",
   "execution_count": 180,
   "id": "7b25316a",
   "metadata": {},
   "outputs": [
    {
     "name": "stdout",
     "output_type": "stream",
     "text": [
      "корректных назначений для болезней 393 из 979\n"
     ]
    }
   ],
   "source": [
    "counter = 0\n",
    "for pair in true_and_false_pairs:\n",
    "    if pair in true_pairs:\n",
    "        counter += 1\n",
    "print(f'корректных назначений для болезней {counter} из {len(true_and_false_pairs)}')"
   ]
  },
  {
   "cell_type": "markdown",
   "id": "2ef9d500",
   "metadata": {},
   "source": [
    "# Set ids for doctors"
   ]
  },
  {
   "cell_type": "code",
   "execution_count": 181,
   "id": "5c6debd2",
   "metadata": {},
   "outputs": [],
   "source": [
    "max_id = 1\n",
    "for doctor in doctors_freq.keys():\n",
    "    for i in range(math.ceil(doctors_freq[doctor]['n']/5)):\n",
    "        doctors_freq[doctor]['ids'].append(max_id)\n",
    "        max_id += 1"
   ]
  },
  {
   "cell_type": "code",
   "execution_count": 182,
   "id": "df5b369e",
   "metadata": {},
   "outputs": [],
   "source": [
    "def set_id(doctor_name):\n",
    "    possible_ids = doctors_freq[doctor_name]['ids']\n",
    "    return randint(min(possible_ids), max(possible_ids))"
   ]
  },
  {
   "cell_type": "code",
   "execution_count": 183,
   "id": "f2701e52",
   "metadata": {},
   "outputs": [],
   "source": [
    "visits['doctor_id'] = visits['Врач'].map(set_id)"
   ]
  },
  {
   "cell_type": "code",
   "execution_count": 184,
   "id": "88b80d44",
   "metadata": {},
   "outputs": [],
   "source": [
    "visits['Диагноз и Направление'] = visits[['Диагноз', 'Направление']].apply(tuple, axis=1)"
   ]
  },
  {
   "cell_type": "code",
   "execution_count": 185,
   "id": "03d7cb19",
   "metadata": {},
   "outputs": [
    {
     "data": {
      "text/html": [
       "<div>\n",
       "<style scoped>\n",
       "    .dataframe tbody tr th:only-of-type {\n",
       "        vertical-align: middle;\n",
       "    }\n",
       "\n",
       "    .dataframe tbody tr th {\n",
       "        vertical-align: top;\n",
       "    }\n",
       "\n",
       "    .dataframe thead th {\n",
       "        text-align: right;\n",
       "    }\n",
       "</style>\n",
       "<table border=\"1\" class=\"dataframe\">\n",
       "  <thead>\n",
       "    <tr style=\"text-align: right;\">\n",
       "      <th></th>\n",
       "      <th>Диагноз</th>\n",
       "      <th>Направление</th>\n",
       "      <th>Обязательность</th>\n",
       "      <th>Врач</th>\n",
       "      <th>Диагноз и Направление</th>\n",
       "      <th>doctor_id</th>\n",
       "    </tr>\n",
       "  </thead>\n",
       "  <tbody>\n",
       "    <tr>\n",
       "      <th>0</th>\n",
       "      <td>Астма</td>\n",
       "      <td>Мониторинг показателей физической активности</td>\n",
       "      <td>По показанию</td>\n",
       "      <td>Пульмонолог</td>\n",
       "      <td>(Астма, Мониторинг показателей физической акти...</td>\n",
       "      <td>2</td>\n",
       "    </tr>\n",
       "    <tr>\n",
       "      <th>1</th>\n",
       "      <td>Астма</td>\n",
       "      <td>Пикфлоуметрия</td>\n",
       "      <td>По показанию</td>\n",
       "      <td>Пульмонолог</td>\n",
       "      <td>(Астма, Пикфлоуметрия)</td>\n",
       "      <td>7</td>\n",
       "    </tr>\n",
       "    <tr>\n",
       "      <th>2</th>\n",
       "      <td>Астма</td>\n",
       "      <td>Спирометрия</td>\n",
       "      <td>Обязательно</td>\n",
       "      <td>Пульмонолог</td>\n",
       "      <td>(Астма, Спирометрия)</td>\n",
       "      <td>1</td>\n",
       "    </tr>\n",
       "    <tr>\n",
       "      <th>3</th>\n",
       "      <td>Астма</td>\n",
       "      <td>Функциональная эзофагогастродуоденоскопия (ФЭГДС)</td>\n",
       "      <td>По показанию</td>\n",
       "      <td>Пульмонолог</td>\n",
       "      <td>(Астма, Функциональная эзофагогастродуоденоско...</td>\n",
       "      <td>4</td>\n",
       "    </tr>\n",
       "    <tr>\n",
       "      <th>4</th>\n",
       "      <td>Астма</td>\n",
       "      <td>Нейрологическое обследование</td>\n",
       "      <td>По показанию</td>\n",
       "      <td>Пульмонолог</td>\n",
       "      <td>(Астма, Нейрологическое обследование)</td>\n",
       "      <td>5</td>\n",
       "    </tr>\n",
       "  </tbody>\n",
       "</table>\n",
       "</div>"
      ],
      "text/plain": [
       "  Диагноз                                        Направление Обязательность   \n",
       "0   Астма       Мониторинг показателей физической активности   По показанию  \\\n",
       "1   Астма                                      Пикфлоуметрия   По показанию   \n",
       "2   Астма                                        Спирометрия    Обязательно   \n",
       "3   Астма  Функциональная эзофагогастродуоденоскопия (ФЭГДС)   По показанию   \n",
       "4   Астма                       Нейрологическое обследование   По показанию   \n",
       "\n",
       "          Врач                              Диагноз и Направление  doctor_id  \n",
       "0  Пульмонолог  (Астма, Мониторинг показателей физической акти...          2  \n",
       "1  Пульмонолог                             (Астма, Пикфлоуметрия)          7  \n",
       "2  Пульмонолог                               (Астма, Спирометрия)          1  \n",
       "3  Пульмонолог  (Астма, Функциональная эзофагогастродуоденоско...          4  \n",
       "4  Пульмонолог              (Астма, Нейрологическое обследование)          5  "
      ]
     },
     "execution_count": 185,
     "metadata": {},
     "output_type": "execute_result"
    }
   ],
   "source": [
    "visits.head()"
   ]
  },
  {
   "cell_type": "markdown",
   "id": "f7479ba9",
   "metadata": {},
   "source": [
    "# Rate doctors"
   ]
  },
  {
   "cell_type": "code",
   "execution_count": 186,
   "id": "58989eba",
   "metadata": {},
   "outputs": [
    {
     "name": "stdout",
     "output_type": "stream",
     "text": [
      "Empty DataFrame\n",
      "Columns: [Диагноз, Направление, Обязательность, Врач, Диагноз и Направление, doctor_id]\n",
      "Index: []\n"
     ]
    }
   ],
   "source": [
    "unique_ids = visits['doctor_id'].unique()\n",
    "doctor_stats = {}\n",
    "for doctor_id in unique_ids:\n",
    "    test_doctor = visits[visits['doctor_id']==doctor_id]\n",
    "    nesses = test_doctor[test_doctor['Обязательность']=='Обязательно']\n",
    "    unnesses = test_doctor[test_doctor['Обязательность']=='По показанию']\n",
    "    #print(type(doctor_id))\n",
    "    print(test_doctor[test_doctor['doctor_id']==1])\n",
    "    if doctor_id == 2:\n",
    "        break\n",
    "    true_nesses = 0\n",
    "    all_nesses = 0\n",
    "    for i in list(nesses['Диагноз и Направление']):\n",
    "        nesses_right_healing = list(desease[desease['Обязательность']=='Обязательно'][desease['Диагноз']==i[0]]['Диагноз и Направление'])\n",
    "        if i in nesses_right_healing:\n",
    "            true_nesses += 1 \n",
    "        all_nesses += len(nesses_right_healing)\n",
    "\n",
    "    true_unnesses = 0\n",
    "    all_unnesses = 0\n",
    "    for i in list(unnesses['Диагноз и Направление']):\n",
    "        unnesses_right_healing = list(desease[desease['Обязательность']=='По показанию'][desease['Диагноз']==i[0]]['Диагноз и Направление'])\n",
    "        # print(unnesses_right_healing)\n",
    "        if i in unnesses_right_healing:\n",
    "            true_unnesses += 1 \n",
    "        all_unnesses += len(unnesses_right_healing)"
   ]
  },
  {
   "cell_type": "code",
   "execution_count": 187,
   "id": "0e00a385-67ab-418d-b541-d9bd9de9f406",
   "metadata": {},
   "outputs": [
    {
     "data": {
      "text/plain": [
       "10"
      ]
     },
     "execution_count": 187,
     "metadata": {},
     "output_type": "execute_result"
    }
   ],
   "source": [
    "all_unnesses"
   ]
  },
  {
   "cell_type": "markdown",
   "id": "b0724d3a-aa97-4ee8-8afb-2a624e303a14",
   "metadata": {},
   "source": [
    "### Подсчет для одного доктора"
   ]
  },
  {
   "cell_type": "code",
   "execution_count": 188,
   "id": "59efb69d-b678-4adf-81db-a97d40b3870e",
   "metadata": {},
   "outputs": [],
   "source": [
    "unique_ids = visits['doctor_id'].unique()\n",
    "doctor_stats = {}\n",
    "for doctor_id in unique_ids:\n",
    "    test_doctor = visits[visits['doctor_id']==doctor_id]\n",
    "    nesses = test_doctor[test_doctor['Обязательность']=='Обязательно']\n",
    "    unnesses = test_doctor[test_doctor['Обязательность']=='По показанию']\n",
    "    \n",
    "    "
   ]
  },
  {
   "cell_type": "code",
   "execution_count": 200,
   "id": "9b589257-beb4-48c1-8911-905a3b61ac57",
   "metadata": {},
   "outputs": [],
   "source": [
    "doctor_1 = visits[visits['doctor_id']==2]"
   ]
  },
  {
   "cell_type": "code",
   "execution_count": 201,
   "id": "de8b4ff8-235f-4864-bc9d-74930a4ba6fd",
   "metadata": {},
   "outputs": [
    {
     "data": {
      "text/html": [
       "<div>\n",
       "<style scoped>\n",
       "    .dataframe tbody tr th:only-of-type {\n",
       "        vertical-align: middle;\n",
       "    }\n",
       "\n",
       "    .dataframe tbody tr th {\n",
       "        vertical-align: top;\n",
       "    }\n",
       "\n",
       "    .dataframe thead th {\n",
       "        text-align: right;\n",
       "    }\n",
       "</style>\n",
       "<table border=\"1\" class=\"dataframe\">\n",
       "  <thead>\n",
       "    <tr style=\"text-align: right;\">\n",
       "      <th></th>\n",
       "      <th>Диагноз</th>\n",
       "      <th>Направление</th>\n",
       "      <th>Обязательность</th>\n",
       "      <th>Врач</th>\n",
       "      <th>Диагноз и Направление</th>\n",
       "      <th>doctor_id</th>\n",
       "    </tr>\n",
       "  </thead>\n",
       "  <tbody>\n",
       "    <tr>\n",
       "      <th>0</th>\n",
       "      <td>Астма</td>\n",
       "      <td>Мониторинг показателей физической активности</td>\n",
       "      <td>По показанию</td>\n",
       "      <td>Пульмонолог</td>\n",
       "      <td>(Астма, Мониторинг показателей физической акти...</td>\n",
       "      <td>2</td>\n",
       "    </tr>\n",
       "    <tr>\n",
       "      <th>7</th>\n",
       "      <td>Аспергиллома</td>\n",
       "      <td>Лечебная физкультура</td>\n",
       "      <td>По показанию</td>\n",
       "      <td>Пульмонолог</td>\n",
       "      <td>(Аспергиллома, Лечебная физкультура)</td>\n",
       "      <td>2</td>\n",
       "    </tr>\n",
       "    <tr>\n",
       "      <th>14</th>\n",
       "      <td>Идиопатическая неспецифическая интерстициальна...</td>\n",
       "      <td>Высокоразрешающая компьютерная томография груд...</td>\n",
       "      <td>Обязательно</td>\n",
       "      <td>Пульмонолог</td>\n",
       "      <td>(Идиопатическая неспецифическая интерстициальн...</td>\n",
       "      <td>2</td>\n",
       "    </tr>\n",
       "    <tr>\n",
       "      <th>18</th>\n",
       "      <td>Кавернозный туберкулёз</td>\n",
       "      <td>Манту-тест или кожная проба Туберкулина</td>\n",
       "      <td>По показанию</td>\n",
       "      <td>Пульмонолог</td>\n",
       "      <td>(Кавернозный туберкулёз, Манту-тест или кожная...</td>\n",
       "      <td>2</td>\n",
       "    </tr>\n",
       "    <tr>\n",
       "      <th>22</th>\n",
       "      <td>Криптогенная организующаяся пневмония</td>\n",
       "      <td>Выделение бронхиального секрета для исследования</td>\n",
       "      <td>Обязательно</td>\n",
       "      <td>Пульмонолог</td>\n",
       "      <td>(Криптогенная организующаяся пневмония, Выделе...</td>\n",
       "      <td>2</td>\n",
       "    </tr>\n",
       "  </tbody>\n",
       "</table>\n",
       "</div>"
      ],
      "text/plain": [
       "                                              Диагноз   \n",
       "0                                               Астма  \\\n",
       "7                                        Аспергиллома   \n",
       "14  Идиопатическая неспецифическая интерстициальна...   \n",
       "18                             Кавернозный туберкулёз   \n",
       "22              Криптогенная организующаяся пневмония   \n",
       "\n",
       "                                          Направление Обязательность   \n",
       "0        Мониторинг показателей физической активности   По показанию  \\\n",
       "7                                Лечебная физкультура   По показанию   \n",
       "14  Высокоразрешающая компьютерная томография груд...    Обязательно   \n",
       "18            Манту-тест или кожная проба Туберкулина   По показанию   \n",
       "22   Выделение бронхиального секрета для исследования    Обязательно   \n",
       "\n",
       "           Врач                              Диагноз и Направление  doctor_id  \n",
       "0   Пульмонолог  (Астма, Мониторинг показателей физической акти...          2  \n",
       "7   Пульмонолог               (Аспергиллома, Лечебная физкультура)          2  \n",
       "14  Пульмонолог  (Идиопатическая неспецифическая интерстициальн...          2  \n",
       "18  Пульмонолог  (Кавернозный туберкулёз, Манту-тест или кожная...          2  \n",
       "22  Пульмонолог  (Криптогенная организующаяся пневмония, Выделе...          2  "
      ]
     },
     "execution_count": 201,
     "metadata": {},
     "output_type": "execute_result"
    }
   ],
   "source": [
    "doctor_1.head()"
   ]
  },
  {
   "cell_type": "code",
   "execution_count": 190,
   "id": "5a63b07b-bf19-4a0a-9db9-b839d546e6c3",
   "metadata": {},
   "outputs": [],
   "source": [
    "y_true_nesses = [0]*len(desease)\n",
    "y_pred_nesses = [0]*len(desease)\n",
    "y_true_unnesses = [0]*len(desease)\n",
    "y_pred_unnesses = [0]*len(desease)\n",
    "\n",
    "#заполнение y_true_nesses\n",
    "for i in range(len(desease)):\n",
    "    for k in range(len(nesses)):\n",
    "        if nesses['Диагноз'].iloc[k] == desease['Диагноз'].iloc[i]:\n",
    "            y_true_nesses[i] = 1\n",
    "\n",
    "#заполнение y_pred_nesses\n",
    "for i in range(len(desease)):\n",
    "    for k in range(len(nesses)):\n",
    "        if nesses['Диагноз'].iloc[k] == desease['Диагноз'].iloc[i] and nesses['Направление'].iloc[k] == desease['Направление'].iloc[i]:\n",
    "            #print(desease['Диагноз'].iloc[i], desease['Направление'].iloc[i])\n",
    "            y_pred_nesses[i] = 1\n",
    "\n",
    "#заполнение y_true_unnesses\n",
    "for i in range(len(desease)):\n",
    "    for k in range(len(unnesses)):\n",
    "        if unnesses['Диагноз'].iloc[k] == desease['Диагноз'].iloc[i]:\n",
    "            y_true_unnesses[i] = 1\n",
    "\n",
    "#заполнение y_pred_unnesses\n",
    "for i in range(len(desease)):\n",
    "    for k in range(len(unnesses)):\n",
    "        if unnesses['Диагноз'].iloc[k] == desease['Диагноз'].iloc[i] and unnesses['Направление'].iloc[k] == desease['Направление'].iloc[i]:\n",
    "            #print(desease['Диагноз'].iloc[i], desease['Направление'].iloc[i])\n",
    "            y_pred_unnesses[i] = 1"
   ]
  },
  {
   "cell_type": "code",
   "execution_count": 191,
   "id": "af2a590b-9048-4f38-be11-077ddbc49969",
   "metadata": {},
   "outputs": [],
   "source": [
    "from sklearn.metrics import fbeta_score\n",
    "from sklearn.metrics import f1_score"
   ]
  },
  {
   "cell_type": "code",
   "execution_count": 192,
   "id": "684c22fd-bb31-4217-a9f6-86d052a11420",
   "metadata": {},
   "outputs": [],
   "source": [
    "nesses_score = fbeta_score(y_true_nesses, y_pred_nesses, average='macro', beta=2)\n",
    "unnesses_score = fbeta_score(y_true_unnesses, y_pred_unnesses, average='macro', beta=0.5)"
   ]
  },
  {
   "cell_type": "code",
   "execution_count": 197,
   "id": "8c2e7bc3-1c8d-44ac-94ed-696dd8c166ac",
   "metadata": {},
   "outputs": [
    {
     "data": {
      "text/plain": [
       "1.0"
      ]
     },
     "execution_count": 197,
     "metadata": {},
     "output_type": "execute_result"
    }
   ],
   "source": [
    "unnesses_score"
   ]
  },
  {
   "cell_type": "code",
   "execution_count": 195,
   "id": "e6c01aff-29fa-461e-afb4-32858dc2b38d",
   "metadata": {},
   "outputs": [],
   "source": [
    "SCORE = (5*nesses_score + unnesses_score)/6"
   ]
  },
  {
   "cell_type": "code",
   "execution_count": 196,
   "id": "f1717a5c-ebe4-4ab9-b094-9b29e7bb1f3b",
   "metadata": {},
   "outputs": [
    {
     "data": {
      "text/plain": [
       "0.5829075114971894"
      ]
     },
     "execution_count": 196,
     "metadata": {},
     "output_type": "execute_result"
    }
   ],
   "source": [
    "SCORE"
   ]
  },
  {
   "cell_type": "code",
   "execution_count": 216,
   "id": "47110529-aa12-4d78-a5eb-70f7e1292790",
   "metadata": {},
   "outputs": [],
   "source": [
    "def count_score_doctor(visits: pd.DataFrame) -> dict:\n",
    "    unique_ids = visits['doctor_id'].unique()\n",
    "    doctor_stats = {}\n",
    "    for doctor_id in unique_ids:\n",
    "        test_doctor = visits[visits['doctor_id']==doctor_id]\n",
    "        nesses = test_doctor[test_doctor['Обязательность']=='Обязательно']\n",
    "        unnesses = test_doctor[test_doctor['Обязательность']=='По показанию']\n",
    "        #doctor = visits[visits['doctor_id']==doctor_id]\n",
    "\n",
    "        y_true_nesses = [0]*len(desease)\n",
    "        y_pred_nesses = [0]*len(desease)\n",
    "        y_true_unnesses = [0]*len(desease)\n",
    "        y_pred_unnesses = [0]*len(desease)\n",
    "        \n",
    "        #заполнение y_true_nesses\n",
    "        for i in range(len(desease)):\n",
    "            for k in range(len(nesses)):\n",
    "                if nesses['Диагноз'].iloc[k] == desease['Диагноз'].iloc[i]:\n",
    "                    y_true_nesses[i] = 1\n",
    "        \n",
    "        #заполнение y_pred_nesses\n",
    "        for i in range(len(desease)):\n",
    "            for k in range(len(nesses)):\n",
    "                if nesses['Диагноз'].iloc[k] == desease['Диагноз'].iloc[i] and nesses['Направление'].iloc[k] == desease['Направление'].iloc[i]:\n",
    "                    #print(desease['Диагноз'].iloc[i], desease['Направление'].iloc[i])\n",
    "                    y_pred_nesses[i] = 1\n",
    "        \n",
    "        #заполнение y_true_unnesses\n",
    "        for i in range(len(desease)):\n",
    "            for k in range(len(unnesses)):\n",
    "                if unnesses['Диагноз'].iloc[k] == desease['Диагноз'].iloc[i]:\n",
    "                    y_true_unnesses[i] = 1\n",
    "        \n",
    "        #заполнение y_pred_unnesses\n",
    "        for i in range(len(desease)):\n",
    "            for k in range(len(unnesses)):\n",
    "                if unnesses['Диагноз'].iloc[k] == desease['Диагноз'].iloc[i] and unnesses['Направление'].iloc[k] == desease['Направление'].iloc[i]:\n",
    "                    #print(desease['Диагноз'].iloc[i], desease['Направление'].iloc[i])\n",
    "                    y_pred_unnesses[i] = 1\n",
    "                    \n",
    "        nesses_score = fbeta_score(y_true_nesses, y_pred_nesses, average='macro', beta=2)\n",
    "        unnesses_score = fbeta_score(y_true_unnesses, y_pred_unnesses, average='micro', beta=0.5)\n",
    "        SCORE = (5*nesses_score + unnesses_score)/6*100\n",
    "        doctor_stats[doctor_id] = SCORE\n",
    "    return doctor_stats"
   ]
  },
  {
   "cell_type": "code",
   "execution_count": 217,
   "id": "9a4dcc6c-5faa-48e2-8f92-3a50c1d84714",
   "metadata": {},
   "outputs": [
    {
     "data": {
      "text/plain": [
       "{2: 67.97480010643245,\n",
       " 7: 59.770732056513275,\n",
       " 1: 64.48013648528838,\n",
       " 4: 64.35291002218406,\n",
       " 5: 59.674258732302796,\n",
       " 6: 78.02388547511099,\n",
       " 3: 70.8058651026393,\n",
       " 10: 71.6322577044583,\n",
       " 9: 65.78519357850494,\n",
       " 8: 99.82188295165393,\n",
       " 13: 69.33020658363819,\n",
       " 12: 78.51580552020232,\n",
       " 11: 63.27272791400157,\n",
       " 14: 78.10022135297359,\n",
       " 18: 67.21830432177077,\n",
       " 17: 99.77099236641222,\n",
       " 15: 74.941255193452,\n",
       " 16: 68.47573776024228,\n",
       " 20: 71.43054201996269,\n",
       " 26: 68.0078804748195,\n",
       " 22: 75.2974892901441,\n",
       " 19: 65.41718054336941,\n",
       " 25: 67.25062906067049,\n",
       " 21: 59.826930488028,\n",
       " 24: 67.91064698466886,\n",
       " 23: 63.94281451838933,\n",
       " 29: 71.8948431652237,\n",
       " 28: 65.93549711267188,\n",
       " 32: 61.85038091420465,\n",
       " 31: 63.58658042169723,\n",
       " 27: 74.04011532296792,\n",
       " 30: 63.44621549737337,\n",
       " 34: 69.1107161929893,\n",
       " 35: 65.03586796070404,\n",
       " 33: 59.6427193102952,\n",
       " 37: 59.867016033537126,\n",
       " 36: 66.58057611143863,\n",
       " 38: 59.72822010375164,\n",
       " 39: 59.46769133054766,\n",
       " 40: 69.4574330467425,\n",
       " 42: 74.09100590820967,\n",
       " 41: 82.09999115398826,\n",
       " 48: 71.31566436106687,\n",
       " 50: 63.03216711114986,\n",
       " 52: 78.10022135297359,\n",
       " 51: 65.89023323175331,\n",
       " 47: 63.03216711114986,\n",
       " 45: 65.08692971147917,\n",
       " 46: 69.38109716887992,\n",
       " 43: 68.39940188237969,\n",
       " 44: 59.893036250774465,\n",
       " 49: 59.9591211037302,\n",
       " 54: 63.573441960477695,\n",
       " 53: 64.65825353363444,\n",
       " 62: 67.8215571476511,\n",
       " 69: 66.0627235757762,\n",
       " 66: 59.75487832131642,\n",
       " 57: 69.17753482791301,\n",
       " 65: 99.79643765903307,\n",
       " 56: 59.91311077496746,\n",
       " 61: 67.71879016814879,\n",
       " 63: 66.03727828315533,\n",
       " 55: 64.48013648528838,\n",
       " 67: 66.29173120936397,\n",
       " 70: 64.58529310100832,\n",
       " 59: 62.819902579143374,\n",
       " 68: 73.78566239675928,\n",
       " 64: 66.68320129265936,\n",
       " 60: 99.59287531806616,\n",
       " 58: 71.50503124135396,\n",
       " 74: 65.81537502154323,\n",
       " 82: 65.1196442460465,\n",
       " 87: 59.399324666071166,\n",
       " 89: 59.49004755457001,\n",
       " 71: 66.61958457554066,\n",
       " 79: 71.30146890038705,\n",
       " 76: 59.73978957043279,\n",
       " 72: 59.64881343968194,\n",
       " 75: 65.56144394201146,\n",
       " 81: 59.84214566553273,\n",
       " 85: 65.98875591947187,\n",
       " 84: 64.37835531480494,\n",
       " 80: 59.29686305414085,\n",
       " 73: 65.16326558934176,\n",
       " 77: 99.28753180661577,\n",
       " 90: 69.39061441181882,\n",
       " 88: 66.78413845240556,\n",
       " 86: 64.35291002218406,\n",
       " 78: 59.79617734913415,\n",
       " 93: 59.82162264175501,\n",
       " 92: 69.27931599839646,\n",
       " 97: 69.30476129101731,\n",
       " 95: 76.26375009340428,\n",
       " 96: 63.573441960477695,\n",
       " 91: 99.56743002544529,\n",
       " 94: 69.48287833936337,\n",
       " 98: 59.6427193102952,\n",
       " 99: 59.964366220369456,\n",
       " 112: 66.5296855261969,\n",
       " 105: 71.5249871912964,\n",
       " 101: 67.22518376804965,\n",
       " 107: 65.66122559816552,\n",
       " 108: 67.84700244027198,\n",
       " 102: 67.8215571476511,\n",
       " 111: 66.08173922669567,\n",
       " 104: 64.63280824101358,\n",
       " 100: 73.28205128205127,\n",
       " 106: 66.98854480410976,\n",
       " 109: 59.795391066020386,\n",
       " 110: 64.42924590004665,\n",
       " 113: 66.6060214040595,\n",
       " 103: 59.714344277811925,\n",
       " 114: 59.770732056513275,\n",
       " 116: 79.23746666869607,\n",
       " 115: 99.79643765903307,\n",
       " 119: 70.22536570984272,\n",
       " 120: 69.08527090036843,\n",
       " 118: 65.09419895342563,\n",
       " 122: 70.07269395411754,\n",
       " 117: 76.17316886080282,\n",
       " 121: 59.566383432432616,\n",
       " 125: 73.15482481894695,\n",
       " 124: 74.11645120083053,\n",
       " 123: 65.14508953866735,\n",
       " 127: 63.94281451838933,\n",
       " 126: 65.86152945636753,\n",
       " 128: 72.15717964008009,\n",
       " 132: 59.633212556137934,\n",
       " 131: 63.274109567251735,\n",
       " 133: 64.73458941149704,\n",
       " 129: 59.25064071587312,\n",
       " 130: 59.738683799917844,\n",
       " 134: 59.94884910485935,\n",
       " 135: 99.97455470737913,\n",
       " 136: 75.2878557130331,\n",
       " 137: 59.92871165851146,\n",
       " 139: 76.30039532390714,\n",
       " 140: 63.17094674351811,\n",
       " 138: 65.09419895342563,\n",
       " 146: 69.18705207085189,\n",
       " 147: 65.38072825143189,\n",
       " 144: 62.19843941383936,\n",
       " 148: 67.51522782718186,\n",
       " 142: 69.31427853395621,\n",
       " 145: 65.66122559816552,\n",
       " 141: 59.74036449504927,\n",
       " 143: 59.34200125063417,\n",
       " 150: 64.82444699324202,\n",
       " 149: 65.98875591947187,\n",
       " 151: 75.36419159089569,\n",
       " 153: 69.38109716887992,\n",
       " 155: 59.51627913030464,\n",
       " 154: 59.4842308737092,\n",
       " 156: 99.66921119592875,\n",
       " 158: 61.2211242243714,\n",
       " 159: 62.91656826447601,\n",
       " 157: 62.16174130944947,\n",
       " 162: 61.59282716513519,\n",
       " 161: 61.55963702746507,\n",
       " 160: 64.73796485673353,\n",
       " 163: 59.93855606758832,\n",
       " 164: 59.9591211037302,\n",
       " 166: 59.82162264175501,\n",
       " 167: 59.68410314137967,\n",
       " 168: 63.13394828163334,\n",
       " 169: 59.84706793437587,\n",
       " 170: 71.68314828970001,\n",
       " 171: 99.87277353689568,\n",
       " 172: 69.38109716887992,\n",
       " 173: 59.65377759227981,\n",
       " 174: 59.82162264175501,\n",
       " 175: 59.94884910485935,\n",
       " 176: 99.87277353689568,\n",
       " 178: 59.88278522586759,\n",
       " 179: 59.91790661877886,\n",
       " 180: 65.98875591947187,\n",
       " 181: 59.795391066020386,\n",
       " 182: 99.87277353689568,\n",
       " 183: 59.9591211037302}"
      ]
     },
     "execution_count": 217,
     "metadata": {},
     "output_type": "execute_result"
    }
   ],
   "source": [
    "count_score_doctor(visits)"
   ]
  },
  {
   "cell_type": "code",
   "execution_count": null,
   "id": "070aa663-fd90-436d-bbca-869b7d143fe4",
   "metadata": {},
   "outputs": [],
   "source": [
    "desease.to_csv()"
   ]
  }
 ],
 "metadata": {
  "kernelspec": {
   "display_name": "Python 3 (ipykernel)",
   "language": "python",
   "name": "python3"
  },
  "language_info": {
   "codemirror_mode": {
    "name": "ipython",
    "version": 3
   },
   "file_extension": ".py",
   "mimetype": "text/x-python",
   "name": "python",
   "nbconvert_exporter": "python",
   "pygments_lexer": "ipython3",
   "version": "3.8.8"
  }
 },
 "nbformat": 4,
 "nbformat_minor": 5
}
